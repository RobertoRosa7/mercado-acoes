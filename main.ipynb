{
 "cells": [
  {
   "cell_type": "markdown",
   "metadata": {},
   "source": [
    "<h1 style=\"color: lightgreen; line-height: 0.5em;\">Análise Fundamentalista Mercado de Ações</h1>\n",
    "<h3>Projeto Ciencia de Dados: Carteira de Ações com Inteligência Articial</h3>\n",
    "\n",
    "<ul>\n",
    "<li>Projeto Inspiração: <a href=\"https://medium.com/swlh/teaching-a-machine-to-trade-stocks-like-warren-buffett-part-i-445849b208c6\">\n",
    "https://medium.com/swlh/teaching-a-machine-to-trade-stocks-like-warren-buffett-part-i-445849b208c6</a></li>\n",
    "<li>Resumo Fundamentos Empresas BR: <a href=\"https://fundamentus.com.br/index.php\">https://fundamentus.com.br/index.php</a></li>\n",
    "</ul>\n"
   ]
  },
  {
   "cell_type": "code",
   "execution_count": 226,
   "metadata": {},
   "outputs": [],
   "source": [
    "import pandas as pd\n",
    "import os\n"
   ]
  },
  {
   "cell_type": "code",
   "execution_count": 227,
   "metadata": {},
   "outputs": [],
   "source": [
    "empresas = [\n",
    "    # 'ABEV3',\n",
    "    \"ITUB4\"\n",
    "    # 'ASAI3',\n",
    "    # 'AZUL4',\n",
    "    # 'B3SA3',\n",
    "    # 'BBSE3',\n",
    "    # 'BEEF3',\n",
    "    # 'BRAP4',\n",
    "    # 'BRFS3',\n",
    "    # 'BRKM5',\n",
    "    # 'BRML3',\n",
    "    # 'CCRO3',\n",
    "    # 'CIEL3',\n",
    "    # 'CMIG4',\n",
    "    # 'COGN3',\n",
    "    # 'CPFE3',\n",
    "    # 'CPLE6',\n",
    "    # 'CRFB3',\n",
    "    # 'CSAN3',\n",
    "    # 'CSNA3',\n",
    "    # 'CVCB3',\n",
    "    # 'CYRE3',\n",
    "    # 'ECOR3',\n",
    "    # 'EGIE3',\n",
    "    # 'ELET3',\n",
    "    # 'ELET6',\n",
    "    # 'EMBR3',\n",
    "    # 'ENBR3',\n",
    "    # 'ENEV3',\n",
    "    # 'ENGI11',\n",
    "    # 'EQTL3',\n",
    "    # 'EZTC3',\n",
    "    # 'FLRY3',\n",
    "    # 'GGBR4',\n",
    "    # 'GOAU4',\n",
    "    # 'GOLL4',\n",
    "    # 'HAPV3',\n",
    "    # 'HYPE3',\n",
    "    # 'ITSA4',\n",
    "    # 'JBSS3',\n",
    "    # 'JHSF3',\n",
    "    # 'KLBN11',\n",
    "    # 'LREN3',\n",
    "    # 'MGLU3',\n",
    "    # 'MRFG3',\n",
    "    # 'MRVE3',\n",
    "    # 'MULT3',\n",
    "    # 'NTCO3',\n",
    "    # 'PCAR3',\n",
    "    # 'PETR3',\n",
    "    # 'PETR4',\n",
    "    # 'PRIO3',\n",
    "    # 'QUAL3',\n",
    "    # 'RADL3',\n",
    "    # 'RAIL3',\n",
    "    # 'RENT3',\n",
    "    # 'SBSP3',\n",
    "    # 'SUZB3',\n",
    "    # 'TAEE11',\n",
    "    # 'TIMS3',\n",
    "    # 'TOTS3',\n",
    "    # 'UGPA3',\n",
    "    # 'USIM5',\n",
    "    # 'VALE3',\n",
    "    # 'VIVT3',\n",
    "    # 'WEGE3',\n",
    "    # \"YDUQ3\",\n",
    "]\n"
   ]
  },
  {
   "cell_type": "code",
   "execution_count": 228,
   "metadata": {},
   "outputs": [],
   "source": [
    "def starWithUnderScore(dir):\n",
    "    return dir[-10:-4]\n",
    "\n",
    "\n",
    "def startWithNotUnderScore(dir):\n",
    "    return dir[-9:-4]\n",
    "\n",
    "\n",
    "def formatDataFrame(name, file, sheet_name):\n",
    "    dataframe = pd.read_excel(f'balancos/{file}', sheet_name=sheet_name)\n",
    "    dataframe.iloc[0, 0] = name\n",
    "    dataframe.columns = dataframe.iloc[0]\n",
    "    dataframe = dataframe[1:]\n",
    "    dataframe = dataframe.set_index(name)\n",
    "    return dataframe\n",
    "\n",
    "\n",
    "handlerStartWith = {\"True\": starWithUnderScore,\n",
    "                    \"False\": startWithNotUnderScore, \"dataframe\": formatDataFrame}\n"
   ]
  },
  {
   "cell_type": "markdown",
   "metadata": {},
   "source": [
    "<p>Criar Dicionários de Dataframes com cada empresas:</p>\n"
   ]
  },
  {
   "cell_type": "code",
   "execution_count": 229,
   "metadata": {},
   "outputs": [
    {
     "name": "stdout",
     "output_type": "stream",
     "text": [
      "WARNING *** file size (68522) not 512 + multiple of sector size (512)\n",
      "WARNING *** OLE2 inconsistency: SSCS size is 0 but SSAT size is non-zero\n",
      "WARNING *** file size (68522) not 512 + multiple of sector size (512)\n",
      "WARNING *** OLE2 inconsistency: SSCS size is 0 but SSAT size is non-zero\n"
     ]
    }
   ],
   "source": [
    "fundamentos = {}\n",
    "files = os.listdir('balancos')\n",
    "for file in files:\n",
    "    name = handlerStartWith[str(file[-11:-4].startswith('_'))](file)\n",
    "    if name in empresas:\n",
    "        balanco = handlerStartWith['dataframe'](name, file, 0)\n",
    "        dre = handlerStartWith['dataframe'](name, file, 1)\n",
    "        fundamentos[name] = pd.concat([balanco, dre])"
   ]
  },
  {
   "cell_type": "markdown",
   "metadata": {},
   "source": [
    "<p>Pegar Preços das Ações nas Datas correspondentes</p>\n"
   ]
  },
  {
   "cell_type": "code",
   "execution_count": 230,
   "metadata": {},
   "outputs": [
    {
     "name": "stdout",
     "output_type": "stream",
     "text": [
      "0                                           31/12/2020     30/09/2020  \\\n",
      "ITUB4                                                                   \n",
      "Ativo Total                              210399002.624  206001995.776   \n",
      "Ativo Circulante                          20804999.168   10561999.872   \n",
      "Disponibilidades                                 41000         262000   \n",
      "Aplicações Interfinanceiras de Liquidez   16584999.936    9009999.872   \n",
      "Títulos e Valores Mobiliários                   274000         188000   \n",
      "\n",
      "0                                           30/06/2020     31/03/2020  \\\n",
      "ITUB4                                                                   \n",
      "Ativo Total                              199988002.816  197917999.104   \n",
      "Ativo Circulante                          11292000.256   25949999.104   \n",
      "Disponibilidades                                123000    6070000.128   \n",
      "Aplicações Interfinanceiras de Liquidez    8835999.744    13628999.68   \n",
      "Títulos e Valores Mobiliários                   656000        1892000   \n",
      "\n",
      "0                                           31/12/2019   30/09/2019  \\\n",
      "ITUB4                                                                 \n",
      "Ativo Total                              182347169.792  171856281.6   \n",
      "Ativo Circulante                           26470174.72  21212354.56   \n",
      "Disponibilidades                                 11905        51645   \n",
      "Aplicações Interfinanceiras de Liquidez   12194097.152  9837679.616   \n",
      "Títulos e Valores Mobiliários              8781645.824  8536775.168   \n",
      "\n",
      "0                                           30/06/2019     31/03/2019  \\\n",
      "ITUB4                                                                   \n",
      "Ativo Total                              175201058.816  180858191.872   \n",
      "Ativo Circulante                          16937673.728     20059187.2   \n",
      "Disponibilidades                                 18392          58415   \n",
      "Aplicações Interfinanceiras de Liquidez    7299603.968    4315162.112   \n",
      "Títulos e Valores Mobiliários              6250242.048   11069883.392   \n",
      "\n",
      "0                                           31/12/2018     30/09/2018  ...  \\\n",
      "ITUB4                                                                  ...   \n",
      "Ativo Total                              198186549.248  196365320.192  ...   \n",
      "Ativo Circulante                          18694776.832    12278881.28  ...   \n",
      "Disponibilidades                           3385456.896         665008  ...   \n",
      "Aplicações Interfinanceiras de Liquidez         261322          50574  ...   \n",
      "Títulos e Valores Mobiliários             11032456.192     9923906.56  ...   \n",
      "\n",
      "0                                          31/12/2012     30/09/2012  \\\n",
      "ITUB4                                                                  \n",
      "Ativo Total                              104908963.84  103576215.552   \n",
      "Ativo Circulante                          13705256.96   25146990.592   \n",
      "Disponibilidades                                15883          15773   \n",
      "Aplicações Interfinanceiras de Liquidez   1009894.016   24007540.736   \n",
      "Títulos e Valores Mobiliários             10414704.64          23455   \n",
      "\n",
      "0                                          30/06/2012    31/03/2012  \\\n",
      "ITUB4                                                                 \n",
      "Ativo Total                              98603646.976  94393540.608   \n",
      "Ativo Circulante                         29267785.728   28069611.52   \n",
      "Disponibilidades                                15834         14445   \n",
      "Aplicações Interfinanceiras de Liquidez  24768804.864  24325648.384   \n",
      "Títulos e Valores Mobiliários             3696016.896   3311305.984   \n",
      "\n",
      "0                                          31/12/2011    30/09/2011  \\\n",
      "ITUB4                                                                 \n",
      "Ativo Total                              91053039.616  87999397.888   \n",
      "Ativo Circulante                         28646455.296       1434784   \n",
      "Disponibilidades                                 7833          6750   \n",
      "Aplicações Interfinanceiras de Liquidez   26302382.08         39082   \n",
      "Títulos e Valores Mobiliários                   13631         13276   \n",
      "\n",
      "0                                          30/06/2011    31/03/2011  \\\n",
      "ITUB4                                                                 \n",
      "Ativo Total                              85578407.936  82272804.864   \n",
      "Ativo Circulante                           1238759.04   1109369.984   \n",
      "Disponibilidades                                 4938          4058   \n",
      "Aplicações Interfinanceiras de Liquidez         22341        119563   \n",
      "Títulos e Valores Mobiliários                    6147          5979   \n",
      "\n",
      "0                                          31/12/2010    30/09/2010  \n",
      "ITUB4                                                                \n",
      "Ativo Total                              81251295.232  76824403.968  \n",
      "Ativo Circulante                          3792476.928   1663874.048  \n",
      "Disponibilidades                                 1940           312  \n",
      "Aplicações Interfinanceiras de Liquidez    192959.008    336728.992  \n",
      "Títulos e Valores Mobiliários                   33489         32351  \n",
      "\n",
      "[5 rows x 42 columns]\n"
     ]
    }
   ],
   "source": [
    "print(fundamentos[\"ITUB4\"].head())"
   ]
  },
  {
   "cell_type": "code",
   "execution_count": 231,
   "metadata": {},
   "outputs": [],
   "source": [
    "df_cotacoes = pd.read_csv(\"../data/files/cotacoes.csv\")"
   ]
  },
  {
   "cell_type": "code",
   "execution_count": 232,
   "metadata": {},
   "outputs": [
    {
     "name": "stdout",
     "output_type": "stream",
     "text": [
      "(1487, 8)\n"
     ]
    }
   ],
   "source": [
    "cotacoes = {}\n",
    "for company in df_cotacoes[\"Company\"].unique():\n",
    "    cotacoes[company] = df_cotacoes.loc[df_cotacoes[\"Company\"] == company, :]\n",
    "\n",
    "print(cotacoes[\"ITUB4\"].shape)"
   ]
  },
  {
   "cell_type": "code",
   "execution_count": 233,
   "metadata": {},
   "outputs": [],
   "source": [
    "for empresa in empresas:\n",
    "    if cotacoes[empresa].isnull().values.any():\n",
    "        cotacoes.pop(empresa)\n",
    "        fundamentos.pop(empresa)\n",
    "empresas = list(cotacoes.keys())"
   ]
  },
  {
   "cell_type": "code",
   "execution_count": 234,
   "metadata": {},
   "outputs": [
    {
     "data": {
      "text/html": [
       "<div>\n",
       "<style scoped>\n",
       "    .dataframe tbody tr th:only-of-type {\n",
       "        vertical-align: middle;\n",
       "    }\n",
       "\n",
       "    .dataframe tbody tr th {\n",
       "        vertical-align: top;\n",
       "    }\n",
       "\n",
       "    .dataframe thead th {\n",
       "        text-align: right;\n",
       "    }\n",
       "</style>\n",
       "<table border=\"1\" class=\"dataframe\">\n",
       "  <thead>\n",
       "    <tr style=\"text-align: right;\">\n",
       "      <th></th>\n",
       "      <th>Ativo Total</th>\n",
       "      <th>Ativo Circulante</th>\n",
       "      <th>Disponibilidades</th>\n",
       "      <th>Aplicações Interfinanceiras de Liquidez</th>\n",
       "      <th>Títulos e Valores Mobiliários</th>\n",
       "      <th>Relações Interfinanceiras</th>\n",
       "      <th>Relações Interdependências</th>\n",
       "      <th>Operações de Crédito</th>\n",
       "      <th>Operações de Arrendamento Mercantil</th>\n",
       "      <th>Outros Créditos</th>\n",
       "      <th>...</th>\n",
       "      <th>Receitas</th>\n",
       "      <th>Despesas</th>\n",
       "      <th>Resultado Antes Tributação/Participações</th>\n",
       "      <th>Provisão para IR e Contribuição Social</th>\n",
       "      <th>IR Diferido</th>\n",
       "      <th>Participações/Contribuições Estatutárias</th>\n",
       "      <th>Reversão dos Juros sobre Capital Próprio</th>\n",
       "      <th>Part. de Acionistas Não Controladores</th>\n",
       "      <th>Lucro/Prejuízo do Período</th>\n",
       "      <th>Adj Close</th>\n",
       "    </tr>\n",
       "    <tr>\n",
       "      <th>ITUB4</th>\n",
       "      <th></th>\n",
       "      <th></th>\n",
       "      <th></th>\n",
       "      <th></th>\n",
       "      <th></th>\n",
       "      <th></th>\n",
       "      <th></th>\n",
       "      <th></th>\n",
       "      <th></th>\n",
       "      <th></th>\n",
       "      <th></th>\n",
       "      <th></th>\n",
       "      <th></th>\n",
       "      <th></th>\n",
       "      <th></th>\n",
       "      <th></th>\n",
       "      <th></th>\n",
       "      <th></th>\n",
       "      <th></th>\n",
       "      <th></th>\n",
       "      <th></th>\n",
       "    </tr>\n",
       "  </thead>\n",
       "  <tbody>\n",
       "  </tbody>\n",
       "</table>\n",
       "<p>0 rows × 79 columns</p>\n",
       "</div>"
      ],
      "text/plain": [
       "Empty DataFrame\n",
       "Columns: [Ativo Total, Ativo Circulante, Disponibilidades, Aplicações Interfinanceiras de Liquidez, Títulos e Valores Mobiliários, Relações Interfinanceiras, Relações Interdependências, Operações de Crédito, Operações de Arrendamento Mercantil, Outros Créditos, Outros Valores e Bens, Ativo Realizável a Longo Prazo, Aplicações Interfinanceiras de Liquidez, Títulos e Valores Mobiliários, Relações Interfinanceiras, Relações Interdependências, Operações de Crédito, Operações de Arrendamento Mercantil, Outros Créditos, Outros Valores e Bens, Ativo Permanente, Investimentos, Imobilizado de Uso, Imobilizado de Arrendamento, Intangível, Diferido, Passivo Total, Passivo Circulante, Depósitos, Captações no Mercado Aberto, Recursos de Aceites e Emissão de Títulos, Relações Interfinanceiras, Relações Interdependências, Obrigações por Empréstimos, Obrigações por Repasse do País, Obrigações por Repasse do Exterior, Outras Obrigações, Passivo Exigível a Longo Prazo, Depósitos, Captações no Mercado Aberto, Recursos de Aceites e Emissão de Títulos, Relações Interfinanceiras, Relações Interdependências, Obrigações por Empréstimos, Obrigações por Repasse do País, Obrigações por Repasse do Exterior, Outras Obrigações, Resultados de Exercícios Futuros, Part. de Acionistas Não Controladores, Patrimônio Líquido, Capital Social Realizado, Reservas de Capital, Reservas de Reavaliação, Reservas de Lucro, Ajustes de Avaliação Patrimonial, Lucros/Prejuízos Acumulados, Receitas da Intermediação Financeira, Despesas da Intermediação Financeira, Resultado Bruto Intermediação Financeira, Outras Despesas/Receitas Operacionais, Receitas de Prestação de Serviços, Despesas de Pessoal, Outras Despesas Administrativas, Despesas Tributárias, Outras Receitas Operacionais, Outras Despesas Operacionais, Resultado da Equivalência Patrimonial, Resultado Operacional, Resultado Não Operacional, Receitas, Despesas, Resultado Antes Tributação/Participações, Provisão para IR e Contribuição Social, IR Diferido, Participações/Contribuições Estatutárias, Reversão dos Juros sobre Capital Próprio, Part. de Acionistas Não Controladores, Lucro/Prejuízo do Período, Adj Close]\n",
       "Index: []\n",
       "\n",
       "[0 rows x 79 columns]"
      ]
     },
     "metadata": {},
     "output_type": "display_data"
    }
   ],
   "source": [
    "for empresa in fundamentos:\n",
    "    tabela = fundamentos[empresa].T\n",
    "    tabela.index = pd.to_datetime(tabela.index, format=\"%d/%m/%Y\")\n",
    "    tabela_cotacao = cotacoes[empresa].set_index('Date')\n",
    "    tabela_cotacao = tabela_cotacao[[\"Adj Close\"]]\n",
    "\n",
    "    tabela = tabela.merge(tabela_cotacao, right_index=True, left_index=True)\n",
    "    tabela.index.name = empresa\n",
    "    fundamentos[empresa] = tabela\n",
    "\n",
    "display(fundamentos[\"ITUB4\"])"
   ]
  },
  {
   "cell_type": "markdown",
   "metadata": {},
   "source": [
    "<h4 style=\"color: orange\">Remover da análise tabelas que tem colunas que são diferentes</h4>\n"
   ]
  },
  {
   "cell_type": "code",
   "execution_count": 235,
   "metadata": {},
   "outputs": [],
   "source": [
    "# colunas = list(fundamentos[\"ABEV3\"].columns)\n",
    "# for empresas in fundamentos:\n",
    "#     if set(colunas) != set(fundamentos[empresa].columns):\n",
    "#         fundamentos.pop(empresa)\n",
    "# print(len(fundamentos))\n"
   ]
  },
  {
   "cell_type": "markdown",
   "metadata": {},
   "source": [
    "<h4>Ajeitando colunas com o mesmo nomes</h4>\n"
   ]
  },
  {
   "cell_type": "code",
   "execution_count": 236,
   "metadata": {},
   "outputs": [],
   "source": [
    "# text_colunas = \";\".join(colunas)\n",
    "# colunas_modificadas = []\n",
    "# for coluna in colunas:\n",
    "#     if colunas.count(coluna) == 2 and coluna not in colunas_modificadas:\n",
    "#         text_colunas = text_colunas.replace(\n",
    "#             \";\" + coluna + \";\", \";\" + coluna + \"_1;\", 1)\n",
    "#     colunas_modificadas.append(coluna)\n",
    "# colunas = text_colunas.split(\";\")\n"
   ]
  },
  {
   "cell_type": "code",
   "execution_count": 237,
   "metadata": {},
   "outputs": [],
   "source": [
    "# for empresa in fundamentos:\n",
    "#     print(fundamentos[empresa].shape)\n",
    "#     if fundamentos[empresa].shape[1] < 42:\n",
    "#         print(empresa)\n",
    "#         print(colunas)\n"
   ]
  },
  {
   "cell_type": "code",
   "execution_count": 238,
   "metadata": {},
   "outputs": [],
   "source": [
    "# valores_vazios = dict.fromkeys(colunas, 0)\n",
    "# total_linhas = 0\n",
    "\n",
    "# for empresa in fundamentos:\n",
    "#     tabela = fundamentos[empresa]\n",
    "#     total_linhas += tabela.shape[0]\n",
    "#     for coluna in colunas:\n",
    "#         qte_vazios = pd.isnull(tabela[coluna]).sum()\n",
    "#         valores_vazios[coluna] += qte_vazios\n"
   ]
  },
  {
   "cell_type": "code",
   "execution_count": 239,
   "metadata": {},
   "outputs": [],
   "source": [
    "# remover_colunas = []\n",
    "# for coluna in valores_vazios:\n",
    "#     if valores_vazios[coluna] > 50:\n",
    "#         remover_colunas.append(coluna)\n",
    "\n",
    "\n",
    "# for empresa in fundamentos:\n",
    "#     fundamentos[empresa] = fundamentos[empresa].drop(remover_colunas, axis=1)\n",
    "#     fundamentos[empresa] = fundamentos[empresa].ffill()\n"
   ]
  },
  {
   "cell_type": "code",
   "execution_count": 240,
   "metadata": {},
   "outputs": [],
   "source": [
    "# for empresa in fundamentos:\n",
    "#     print(fundamentos[empresa].shape)\n"
   ]
  }
 ],
 "metadata": {
  "kernelspec": {
   "display_name": "Python 3.8.0 ('.venv': venv)",
   "language": "python",
   "name": "python3"
  },
  "language_info": {
   "codemirror_mode": {
    "name": "ipython",
    "version": 3
   },
   "file_extension": ".py",
   "mimetype": "text/x-python",
   "name": "python",
   "nbconvert_exporter": "python",
   "pygments_lexer": "ipython3",
   "version": "3.8.0"
  },
  "orig_nbformat": 4,
  "vscode": {
   "interpreter": {
    "hash": "3b8779661acc5eb8b82bd05438eb503d5928cd0381ef3f1d83993a6d75d0493a"
   }
  }
 },
 "nbformat": 4,
 "nbformat_minor": 2
}
